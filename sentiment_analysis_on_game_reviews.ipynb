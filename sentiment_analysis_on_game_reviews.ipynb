{
  "nbformat": 4,
  "nbformat_minor": 0,
  "metadata": {
    "colab": {
      "name": "Assignment 1 Game Reviews Classification.ipynb",
      "provenance": [],
      "collapsed_sections": []
    },
    "kernelspec": {
      "name": "python3",
      "display_name": "Python 3"
    },
    "language_info": {
      "name": "python"
    }
  },
  "cells": [
    {
      "cell_type": "markdown",
      "source": [
        "# Commonsense Media Game Reviews Classification\n",
        "\n",
        "## Project Goals\n",
        "\n",
        "Reviews are one of the better ways to convince a potential customer whether or not he/she wants to buy/use a product. Such is the case for video games. As such, the goal of this project is to classify a game review as either kid-friendly (safe) or for more mature audiences (adult) using machine learning. \n",
        "\n",
        "## Dataset Gathering \n",
        "\n",
        "The dataset used in this project is a parsehub-scraped dataset containing parents reviews from https://www.commonsensemedia.org/. To make the data scraping method more efficient, the games were scraped in the order of the highest-rated games. This ensures that parsehubs runs are optimized. Each run of parsehub's free version takes 40 minutes to complete and for this project, a total of six runs were necessary to scrape a total of 2500 reviews. \n",
        "\n",
        "Then, the 2500 reviews were labelled using the pigeon-xt library for Jupyter notebooks (https://github.com/dennisbakhuis/pigeonXT). The categories for annotations were ['safe', 'adult', 'remove']. The `remove` category were for reviews which:\n",
        "* Contains less than five words  (e.g. 'love it'\n",
        "* Complaints rather than reviews (e.g. complaint of not receiving a refund instead of a game review)\n",
        "* Incoherent sentences (e.g. 'Love love love love love love!')\n",
        "* Ambivalent reviews (e.g. 'Dependent on your kid's maturity reviews')\n",
        "\n",
        "Removing these categories will filter out the dataset so it contains kid-friendly and adult reviews as much as possible. \n",
        "\n",
        "After labelling, filtering out the reviews with `remove` label, and sampling an equal number of `safe` and `adult` reviews, 1300 reviews remained with `650 safe` and `650 adult` reviews.\n",
        "\n",
        "In order to convert the labels for machine learning, scikit-learn's `LabelBinarizer()` was used to transform `safe --> 1` and `adult --> 0`. \n",
        "\n",
        "Now we have a dataset we can perform classification with. \n",
        "\n",
        "# Classification using Machine Learning\n",
        " "
      ],
      "metadata": {
        "id": "dWZ_Ck6wCESs"
      }
    },
    {
      "cell_type": "markdown",
      "source": [
        "### Importing Libraries"
      ],
      "metadata": {
        "id": "RPHvGZ6mCO_7"
      }
    },
    {
      "cell_type": "code",
      "execution_count": null,
      "metadata": {
        "id": "iCBPGygBB-Kg"
      },
      "outputs": [],
      "source": [
        "import pandas as pd\n",
        "import numpy as np\n",
        "import matplotlib.pyplot as plt\n",
        "\n",
        "# NLP preprocessing libraries\n",
        "import nltk\n",
        "import gensim\n",
        "import re\n",
        "import string\n",
        "import unicodedata\n",
        "from nltk.stem import WordNetLemmatizer, SnowballStemmer\n",
        "from gensim.parsing.preprocessing import STOPWORDS\n",
        "from gensim.parsing.preprocessing import remove_stopwords\n",
        "\n",
        "# ML libraries\n",
        "from sklearn.model_selection import cross_val_score\n",
        "from sklearn.model_selection import cross_val_predict\n",
        "from sklearn.metrics import confusion_matrix\n",
        "from sklearn.model_selection import GridSearchCV, RandomizedSearchCV\n",
        "from sklearn.feature_extraction.text import CountVectorizer, TfidfVectorizer\n",
        "from sklearn.model_selection import train_test_split\n",
        "from sklearn.naive_bayes import MultinomialNB\n",
        "from sklearn.svm import LinearSVC, SVC\n",
        "from sklearn.linear_model import LogisticRegression\n",
        "from sklearn.ensemble import RandomForestClassifier, AdaBoostClassifier, BaggingClassifier, GradientBoostingClassifier\n",
        "from sklearn import metrics\n",
        "from sklearn.metrics import plot_confusion_matrix\n",
        "from sklearn.pipeline import Pipeline"
      ]
    },
    {
      "cell_type": "markdown",
      "source": [
        "### Data Preprocessing"
      ],
      "metadata": {
        "id": "X_9OOzPjDTGh"
      }
    },
    {
      "cell_type": "code",
      "source": [
        "reviews = pd.read_csv(\"final_labelled_dataset.csv\")"
      ],
      "metadata": {
        "id": "fgEI5212DVYQ"
      },
      "execution_count": null,
      "outputs": []
    },
    {
      "cell_type": "code",
      "source": [
        "reviews.head()"
      ],
      "metadata": {
        "colab": {
          "base_uri": "https://localhost:8080/",
          "height": 206
        },
        "id": "I30HFV3AEG07",
        "outputId": "1d4fdfb4-9bce-471a-ad7b-1c4ad34347ec"
      },
      "execution_count": null,
      "outputs": [
        {
          "output_type": "execute_result",
          "data": {
            "text/html": [
              "\n",
              "  <div id=\"df-fe1209f7-a063-4c30-8f7b-e08aa11cf0e3\">\n",
              "    <div class=\"colab-df-container\">\n",
              "      <div>\n",
              "<style scoped>\n",
              "    .dataframe tbody tr th:only-of-type {\n",
              "        vertical-align: middle;\n",
              "    }\n",
              "\n",
              "    .dataframe tbody tr th {\n",
              "        vertical-align: top;\n",
              "    }\n",
              "\n",
              "    .dataframe thead th {\n",
              "        text-align: right;\n",
              "    }\n",
              "</style>\n",
              "<table border=\"1\" class=\"dataframe\">\n",
              "  <thead>\n",
              "    <tr style=\"text-align: right;\">\n",
              "      <th></th>\n",
              "      <th>review</th>\n",
              "      <th>label</th>\n",
              "    </tr>\n",
              "  </thead>\n",
              "  <tbody>\n",
              "    <tr>\n",
              "      <th>0</th>\n",
              "      <td>Although the movie is not that good, the game ...</td>\n",
              "      <td>0</td>\n",
              "    </tr>\n",
              "    <tr>\n",
              "      <th>1</th>\n",
              "      <td>I am disappointed that there are guns and shoo...</td>\n",
              "      <td>0</td>\n",
              "    </tr>\n",
              "    <tr>\n",
              "      <th>2</th>\n",
              "      <td>My children and I have had a great deal of fun...</td>\n",
              "      <td>1</td>\n",
              "    </tr>\n",
              "    <tr>\n",
              "      <th>3</th>\n",
              "      <td>although this game is fun and entertaining, th...</td>\n",
              "      <td>1</td>\n",
              "    </tr>\n",
              "    <tr>\n",
              "      <th>4</th>\n",
              "      <td>Recently, I got the directions cut version of ...</td>\n",
              "      <td>0</td>\n",
              "    </tr>\n",
              "  </tbody>\n",
              "</table>\n",
              "</div>\n",
              "      <button class=\"colab-df-convert\" onclick=\"convertToInteractive('df-fe1209f7-a063-4c30-8f7b-e08aa11cf0e3')\"\n",
              "              title=\"Convert this dataframe to an interactive table.\"\n",
              "              style=\"display:none;\">\n",
              "        \n",
              "  <svg xmlns=\"http://www.w3.org/2000/svg\" height=\"24px\"viewBox=\"0 0 24 24\"\n",
              "       width=\"24px\">\n",
              "    <path d=\"M0 0h24v24H0V0z\" fill=\"none\"/>\n",
              "    <path d=\"M18.56 5.44l.94 2.06.94-2.06 2.06-.94-2.06-.94-.94-2.06-.94 2.06-2.06.94zm-11 1L8.5 8.5l.94-2.06 2.06-.94-2.06-.94L8.5 2.5l-.94 2.06-2.06.94zm10 10l.94 2.06.94-2.06 2.06-.94-2.06-.94-.94-2.06-.94 2.06-2.06.94z\"/><path d=\"M17.41 7.96l-1.37-1.37c-.4-.4-.92-.59-1.43-.59-.52 0-1.04.2-1.43.59L10.3 9.45l-7.72 7.72c-.78.78-.78 2.05 0 2.83L4 21.41c.39.39.9.59 1.41.59.51 0 1.02-.2 1.41-.59l7.78-7.78 2.81-2.81c.8-.78.8-2.07 0-2.86zM5.41 20L4 18.59l7.72-7.72 1.47 1.35L5.41 20z\"/>\n",
              "  </svg>\n",
              "      </button>\n",
              "      \n",
              "  <style>\n",
              "    .colab-df-container {\n",
              "      display:flex;\n",
              "      flex-wrap:wrap;\n",
              "      gap: 12px;\n",
              "    }\n",
              "\n",
              "    .colab-df-convert {\n",
              "      background-color: #E8F0FE;\n",
              "      border: none;\n",
              "      border-radius: 50%;\n",
              "      cursor: pointer;\n",
              "      display: none;\n",
              "      fill: #1967D2;\n",
              "      height: 32px;\n",
              "      padding: 0 0 0 0;\n",
              "      width: 32px;\n",
              "    }\n",
              "\n",
              "    .colab-df-convert:hover {\n",
              "      background-color: #E2EBFA;\n",
              "      box-shadow: 0px 1px 2px rgba(60, 64, 67, 0.3), 0px 1px 3px 1px rgba(60, 64, 67, 0.15);\n",
              "      fill: #174EA6;\n",
              "    }\n",
              "\n",
              "    [theme=dark] .colab-df-convert {\n",
              "      background-color: #3B4455;\n",
              "      fill: #D2E3FC;\n",
              "    }\n",
              "\n",
              "    [theme=dark] .colab-df-convert:hover {\n",
              "      background-color: #434B5C;\n",
              "      box-shadow: 0px 1px 3px 1px rgba(0, 0, 0, 0.15);\n",
              "      filter: drop-shadow(0px 1px 2px rgba(0, 0, 0, 0.3));\n",
              "      fill: #FFFFFF;\n",
              "    }\n",
              "  </style>\n",
              "\n",
              "      <script>\n",
              "        const buttonEl =\n",
              "          document.querySelector('#df-fe1209f7-a063-4c30-8f7b-e08aa11cf0e3 button.colab-df-convert');\n",
              "        buttonEl.style.display =\n",
              "          google.colab.kernel.accessAllowed ? 'block' : 'none';\n",
              "\n",
              "        async function convertToInteractive(key) {\n",
              "          const element = document.querySelector('#df-fe1209f7-a063-4c30-8f7b-e08aa11cf0e3');\n",
              "          const dataTable =\n",
              "            await google.colab.kernel.invokeFunction('convertToInteractive',\n",
              "                                                     [key], {});\n",
              "          if (!dataTable) return;\n",
              "\n",
              "          const docLinkHtml = 'Like what you see? Visit the ' +\n",
              "            '<a target=\"_blank\" href=https://colab.research.google.com/notebooks/data_table.ipynb>data table notebook</a>'\n",
              "            + ' to learn more about interactive tables.';\n",
              "          element.innerHTML = '';\n",
              "          dataTable['output_type'] = 'display_data';\n",
              "          await google.colab.output.renderOutput(dataTable, element);\n",
              "          const docLink = document.createElement('div');\n",
              "          docLink.innerHTML = docLinkHtml;\n",
              "          element.appendChild(docLink);\n",
              "        }\n",
              "      </script>\n",
              "    </div>\n",
              "  </div>\n",
              "  "
            ],
            "text/plain": [
              "                                              review  label\n",
              "0  Although the movie is not that good, the game ...      0\n",
              "1  I am disappointed that there are guns and shoo...      0\n",
              "2  My children and I have had a great deal of fun...      1\n",
              "3  although this game is fun and entertaining, th...      1\n",
              "4  Recently, I got the directions cut version of ...      0"
            ]
          },
          "metadata": {},
          "execution_count": 3
        }
      ]
    },
    {
      "cell_type": "code",
      "source": [
        "X = reviews['review']\n",
        "y = reviews['label'] # 1 = safe, 0 = adult"
      ],
      "metadata": {
        "id": "qdv5Ah35ENi0"
      },
      "execution_count": null,
      "outputs": []
    },
    {
      "cell_type": "code",
      "source": [
        "# Create functions for cleaning text\n",
        "\n",
        "def remove_url(text):\n",
        "  return text.replace('http[s]?://(?:[a-zA-Z]|[0-9]|[$-_@.&+]|[!*\\(\\),]|(?:%[0-9a-fA-F][0-9a-fA-F]))+', '')\n",
        "\n",
        "def remove_url_2(text):\n",
        "  return re.sub(r'http\\S+', '', text)\n",
        "\n",
        "def remove_twitter_handles(text):\n",
        "  return re.sub(\"@[A-Za-z0-9]+\", \"\", text)\n",
        "\n",
        "def remove_usernames_links(text):\n",
        "  text = re.sub('@[^\\s]+','',text)\n",
        "  text = re.sub('http[^\\s]+','',text)\n",
        "  return text\n",
        "\n",
        "def remove_punctuations(text):\n",
        "  additional_punctuations = ['’', '…'] # punctuations not in string.punctuation\n",
        "  for punctuation in string.punctuation:\n",
        "      text = text.replace(punctuation, '')\n",
        "    \n",
        "  for punctuation in additional_punctuations:\n",
        "      text = text.replace(punctuation, '')\n",
        "      \n",
        "  return text\n",
        "\n",
        "def remove_hashtags(text):\n",
        "  return re.sub(\"#[A-Za-z0-9_]+\",\"\", text)\n",
        "\n",
        "def remove_emojis(text):\n",
        "  emoji_pattern = re.compile(\"[\"\n",
        "        u\"\\U0001F600-\\U0001F64F\"  # emoticons\n",
        "        u\"\\U0001F300-\\U0001F5FF\"  # symbols & pictographs\n",
        "        u\"\\U0001F680-\\U0001F6FF\"  # transport & map symbols\n",
        "        u\"\\U0001F1E0-\\U0001F1FF\"  # flags (iOS)\n",
        "        u\"\\U00002500-\\U00002BEF\"  # chinese char\n",
        "        u\"\\U00002702-\\U000027B0\"\n",
        "        u\"\\U00002702-\\U000027B0\"\n",
        "        u\"\\U000024C2-\\U0001F251\"\n",
        "        u\"\\U0001f926-\\U0001f937\"\n",
        "        u\"\\U00010000-\\U0010ffff\"\n",
        "        u\"\\u2640-\\u2642\" \n",
        "        u\"\\u2600-\\u2B55\"\n",
        "        u\"\\u200d\"\n",
        "        u\"\\u23cf\"\n",
        "        u\"\\u23e9\"\n",
        "        u\"\\u231a\"\n",
        "        u\"\\ufe0f\"  # dingbats\n",
        "        u\"\\u3030\"\n",
        "                      \"]+\", re.UNICODE)\n",
        "  \n",
        "  return emoji_pattern.sub(r'', text)\n",
        "\n",
        "# Stemming, Lemmatization, and stopwords removal\n",
        "stemmer = SnowballStemmer('english')\n",
        "nltk.download('wordnet')\n",
        "\n",
        "def lemmatize_stemming(text):\n",
        "    return stemmer.stem(WordNetLemmatizer().lemmatize(text, pos='v'))\n",
        "\n",
        "def preprocess(text):\n",
        "    result = []\n",
        "    for token in gensim.utils.simple_preprocess(text):\n",
        "        if token not in gensim.parsing.preprocessing.STOPWORDS:\n",
        "            result.append(lemmatize_stemming(token))\n",
        "    return str(result)\n",
        "\n",
        "# Final data cleaning function\n",
        "# Numbers not to be removed since they may be important in telling age requirements\n",
        "def clean_text(text):\n",
        "  text = remove_twitter_handles(text)\n",
        "  text = remove_hashtags(text)\n",
        "  text = remove_url(text)\n",
        "  text = remove_url_2(text)\n",
        "  text = remove_punctuations(text)\n",
        "  text = remove_emojis(text)\n",
        "  text = remove_stopwords(text)\n",
        "  text = text.lower()\n",
        "  text = preprocess(text)\n",
        "  return text"
      ],
      "metadata": {
        "colab": {
          "base_uri": "https://localhost:8080/"
        },
        "id": "WObvGRitEW6m",
        "outputId": "fc4c5b2b-e2e7-4ea6-9c9e-b45dd58d1799"
      },
      "execution_count": null,
      "outputs": [
        {
          "output_type": "stream",
          "name": "stdout",
          "text": [
            "[nltk_data] Downloading package wordnet to /root/nltk_data...\n",
            "[nltk_data]   Package wordnet is already up-to-date!\n"
          ]
        }
      ]
    },
    {
      "cell_type": "code",
      "source": [
        "# preprocess text\n",
        "\n",
        "X = X.map(clean_text)"
      ],
      "metadata": {
        "id": "J3HS-39QFZhR"
      },
      "execution_count": null,
      "outputs": []
    },
    {
      "cell_type": "code",
      "source": [
        "pd.set_option('max_colwidth', None)\n",
        "X.head()"
      ],
      "metadata": {
        "colab": {
          "base_uri": "https://localhost:8080/"
        },
        "id": "pRXrLFRuFgyS",
        "outputId": "c6d48e84-ad30-43b1-d8f0-86c57263cb1f"
      },
      "execution_count": null,
      "outputs": [
        {
          "output_type": "execute_result",
          "data": {
            "text/plain": [
              "0                                                                                                                                                                                                                                                                                                                                                                                                                                                                                                                                                                                                                                                ['movi', 'good', 'game', 'actual', 'entertain', 'violenc', 'especi', 'machin', 'gun', 'blood', 'show', 'game', 'base', 'terribl', 'movi', 'pretti', 'fun']\n",
              "1    ['disappoint', 'gun', 'shoot', 'game', 'tell', 'mom', 'buy', 'son', 'holiday', 'like', 'car', 'look', 'race', 'game', 'instant', 'love', 'race', 'coupl', 'round', 'race', 'violent', 'activ', 'bomb', 'machin', 'gun', 'shoot', 'blow', 'car', 'mad', 'tri', 'hard', 'monitor', 'way', 'kid', 'expos', 'gun', 'violenc', 'discuss', 'proper', 'catch', 'guard', 'guess', 'didnt', 'dig', 'deep', 'make', 'assumpt', 'disney', 'appropri', 'year', 'old', 'hand', 'absolut', 'love', 'game', 'have', 'blast', 'play', 'iti', 'wish', 'feel', 'good', 'play', 'cours', 'open', 'discuss', 'gun', 'violenc', 'cartoon', 'violenc', 'versus', 'real', 'world', 'violenc', 'cri', 'loudwhi', 'have', 'grow', 'fast', 'daysand', 'media', 'isnt', 'help', 'shield', 'children', 'real', 'violenc', 'world']\n",
              "2                                                                                                                                                                                                                                                                                                                                                                                                                                                                                                                                                                                                                                                                                            ['children', 'great', 'deal', 'fun', 'play', 'surpris', 'solid', 'coop', 'mission', 'design', 'boss', 'battl']\n",
              "3                                                                                                                                                                                                                                                                                                                                                                                                                                                                                                                                                                                  ['game', 'fun', 'entertain', 'fact', 'buy', 'gold', 'coin', 'continu', 'play', 'rip', 'son', 'year', 'old', 'frustrat', 'progress', 'forward', 'game', 'get', 'gold', 'cost', 'money', 'real', 'money', 'play', 'money']\n",
              "4                                                                                                                                                                                                                                                                                                                                                                                                                                                                                                                                                                    ['recent', 'get', 'direct', 'cut', 'version', 'wii', 'violent', 'kill', 'gruesom', 'way', 'want', 'prostitut', 'show', 'brothel', 'drug', 'discuss', 'causal', 'start', 'man', 'smoke', 'weed', 'overal', 'appropri', 'kid', 'infant']\n",
              "Name: review, dtype: object"
            ]
          },
          "metadata": {},
          "execution_count": 7
        }
      ]
    },
    {
      "cell_type": "code",
      "source": [
        "y.value_counts()"
      ],
      "metadata": {
        "colab": {
          "base_uri": "https://localhost:8080/"
        },
        "id": "VF4KUDKqFsKm",
        "outputId": "e1e512e5-6dde-4eb3-b232-4fab684fbcd9"
      },
      "execution_count": null,
      "outputs": [
        {
          "output_type": "execute_result",
          "data": {
            "text/plain": [
              "0    650\n",
              "1    650\n",
              "Name: label, dtype: int64"
            ]
          },
          "metadata": {},
          "execution_count": 8
        }
      ]
    },
    {
      "cell_type": "markdown",
      "source": [
        "### Model Training"
      ],
      "metadata": {
        "id": "XyzcCcY5GBkG"
      }
    },
    {
      "cell_type": "code",
      "source": [
        "# define custom functions for machine learning\n",
        "\n",
        "def crossvalidate_classifier(model, X, y, cm=False):\n",
        "    \n",
        "    scores = cross_val_score(model, X, y, scoring='f1_macro', cv=5)\n",
        "    #scores = cross_val_score(model, X, y, scoring='accuracy', cv=5)\n",
        "    print(f\"{model}: %0.5f f-1 score with a standard deviation of %0.5f\" % (scores.mean(), scores.std()))\n",
        "    print(\"\\n\")\n",
        "    y_pred = cross_val_predict(model, X, y, cv=5)\n",
        "\n",
        "    if(cm):\n",
        "        conf_mat = confusion_matrix(y, y_pred, labels=['fulfillment','other'])\n",
        "        plot_confusion_matrix(conf_mat, classes = ['fulfillment','other'])\n",
        "    \n",
        "def evaluate_classifier(model, X_train, X_test, y_train, y_test):\n",
        "      \n",
        "    # ... fit your model here ...\n",
        "    model.fit(X_train,y_train)\n",
        "\n",
        "    # Run predict on your tfidf test data to get your predictions\n",
        "    pred = model.predict(X_test)\n",
        "\n",
        "    # Calculate your accuracy using the metrics module\n",
        "    acc_score = metrics.accuracy_score(pred, y_test)\n",
        "    print(f\"{model} Accuracy Score:   %0.5f\" % acc_score)\n",
        "    \n",
        "    f1score = metrics.f1_score(pred, y_test, average='macro')\n",
        "    print(f\"{model} F-1 Score:   %0.5f\" % f1score)\n",
        "\n",
        "    print(\"\\n\")\n",
        "\n",
        "    # Calculate the confusion matrices for the tfidf_svc model\n",
        "    #svc_cm = metrics.confusion_matrix(y_test, pred, labels=['fulfillment','other'])\n",
        "\n",
        "    # Plot the confusion matrix using the plot_confusion_matrix function\n",
        "    #plot_confusion_matrix(svc_cm, classes = ['fulfillment','other'], title=\"Confusion Matrix\")\n",
        "    \n",
        "    return acc_score.round(5), f1score.round(5)\n",
        "\n",
        "def best_hyperparam(X_train_data, X_test_data, y_train_data, y_test_data, \n",
        "                       model, param_distributions, iterations, cv=5, scoring_fit='f1_score',\n",
        "                       do_probabilities = False):\n",
        "  \n",
        "    gs = RandomizedSearchCV(\n",
        "        estimator=model,\n",
        "        param_distributions=param_distributions, \n",
        "        cv=cv, \n",
        "        n_jobs=-1, \n",
        "        scoring=scoring_fit,\n",
        "        n_iter=iterations,\n",
        "        verbose=2\n",
        "    )\n",
        "\n",
        "    fitted_model = gs.fit(X_train_data, y_train_data)\n",
        "    \n",
        "    if do_probabilities:\n",
        "      pred = fitted_model.predict_proba(X_test_data)\n",
        "    else:\n",
        "      pred = fitted_model.predict(X_test_data)\n",
        "    \n",
        "    return fitted_model, pred\n",
        "\n",
        "def best_hyperparam_grid(X_train_data, X_test_data, y_train_data, y_test_data, \n",
        "                       model, param_distributions, cv=5, scoring_fit='f1_score',\n",
        "                       do_probabilities = False):\n",
        "  \n",
        "    gs = GridSearchCV(\n",
        "        estimator=model,\n",
        "        param_grid=param_distributions, \n",
        "        cv=cv, \n",
        "        n_jobs=-1, \n",
        "        scoring=scoring_fit,\n",
        "        verbose=2\n",
        "    )\n",
        "\n",
        "    fitted_model = gs.fit(X_train_data, y_train_data)\n",
        "    \n",
        "    if do_probabilities:\n",
        "      pred = fitted_model.predict_proba(X_test_data)\n",
        "    else:\n",
        "      pred = fitted_model.predict(X_test_data)\n",
        "    \n",
        "    return fitted_model, pred"
      ],
      "metadata": {
        "id": "3niaYSBgGGBE"
      },
      "execution_count": null,
      "outputs": []
    },
    {
      "cell_type": "code",
      "source": [
        "# Split the data into train and test set\n",
        "X_train, X_test, y_train, y_test = train_test_split(X, y, random_state=42, test_size=0.2, shuffle=True, stratify=y)"
      ],
      "metadata": {
        "id": "uZ6IL6BuGfRS"
      },
      "execution_count": null,
      "outputs": []
    },
    {
      "cell_type": "code",
      "source": [
        "# Initialize count vectorizer\n",
        "count_vectorizer = CountVectorizer(stop_words='english', max_df=0.9, min_df=0.05)\n",
        "\n",
        "# Create count train and test variables\n",
        "count_train = count_vectorizer.fit_transform(X_train)\n",
        "count_test = count_vectorizer.transform(X_test)\n",
        "\n",
        "# Initialize tfidf vectorizer\n",
        "tfidf_vectorizer = TfidfVectorizer(stop_words='english', max_df=0.9, min_df=0.05)\n",
        "\n",
        "# Create tfidf train and test variables\n",
        "tfidf_train = tfidf_vectorizer.fit_transform(X_train)\n",
        "tfidf_test = tfidf_vectorizer.transform(X_test)"
      ],
      "metadata": {
        "id": "n40_YrTGG41L"
      },
      "execution_count": null,
      "outputs": []
    },
    {
      "cell_type": "code",
      "source": [
        "classifiers = [MultinomialNB(), RandomForestClassifier(), AdaBoostClassifier(), \n",
        "               GradientBoostingClassifier(), SVC(),\n",
        "               LogisticRegression()]"
      ],
      "metadata": {
        "id": "5UV4btPVIA-6"
      },
      "execution_count": null,
      "outputs": []
    },
    {
      "cell_type": "markdown",
      "source": [
        "### Bag of Words Embeddings Training"
      ],
      "metadata": {
        "id": "6V6CGZlGInJm"
      }
    },
    {
      "cell_type": "code",
      "source": [
        "print(count_train.shape)\n",
        "print(count_vectorizer.vocabulary_)"
      ],
      "metadata": {
        "colab": {
          "base_uri": "https://localhost:8080/"
        },
        "id": "AzQmymQIIOap",
        "outputId": "7d9ea834-f40f-4055-d8cd-6d83f6a4e51a"
      },
      "execution_count": null,
      "outputs": [
        {
          "output_type": "stream",
          "name": "stdout",
          "text": [
            "(1040, 118)\n",
            "{'game': 35, 'enjoy': 25, 'parent': 73, 'thing': 99, 'violenc': 107, 'blood': 8, 'player': 77, 'look': 62, 'like': 60, 'real': 82, 'nuditi': 69, 'sex': 88, 'kill': 53, 'languag': 55, 'word': 113, 'recommend': 83, 'love': 64, 'amaz': 3, 'year': 115, 'old': 70, 'play': 76, 'say': 85, 'turn': 103, 'fun': 34, 'buy': 10, 'son': 91, 'good': 37, 'matur': 67, 'great': 41, 'way': 112, 'learn': 56, 'fight': 31, 'peopl': 74, 'need': 68, 'lot': 63, 'world': 114, 'theme': 98, 'violent': 108, 'bite': 7, 'sexual': 89, 'content': 17, 'bad': 4, 'war': 110, 'littl': 61, 'overal': 72, 'gore': 38, 'teen': 97, 'enemi': 24, 'fine': 32, 'children': 14, 'understand': 104, 'graphic': 40, 'easi': 23, 'adult': 1, 'best': 5, 'make': 66, 'isnt': 50, 'famili': 28, 'swear': 96, 'kid': 52, 'age': 2, 'im': 48, 'actual': 0, 'feel': 30, 'younger': 117, 'level': 58, 'friend': 33, 'know': 54, 'high': 46, 'older': 71, 'think': 100, 'time': 101, 'tri': 102, 'pretti': 79, 'person': 75, 'differ': 19, 'charact': 12, 'watch': 111, 'definit': 18, 'bodi': 9, 'doesnt': 20, 'come': 15, 'stori': 93, 'video': 106, 'dont': 21, 'better': 6, 'want': 109, 'hard': 42, 'complet': 16, 'extrem': 27, 'help': 45, 'review': 84, 'let': 57, 'head': 43, 'rat': 81, 'main': 65, 'use': 105, 'gori': 39, 'ive': 51, 'start': 92, 'set': 87, 'scene': 86, 'includ': 49, 'experi': 26, 'young': 116, 'child': 13, 'far': 29, 'shoot': 90, 'life': 59, 'hour': 47, 'drug': 22, 'point': 78, 'puzzl': 80, 'hear': 44, 'strong': 94, 'sure': 95, 'gameplay': 36, 'challeng': 11}\n"
          ]
        }
      ]
    },
    {
      "cell_type": "code",
      "source": [
        "# Iterate through the models and find the classifier with the best cross_val_score\n",
        "# and test score\n",
        "\n",
        "cv_accuracy = []\n",
        "cv_f1 = []\n",
        "\n",
        "for classifier in classifiers:\n",
        "  crossvalidate_classifier(classifier, count_train, y_train)\n",
        "\n",
        "for classifier in classifiers:\n",
        "  accuracy, f1 = evaluate_classifier(classifier, count_train, count_test, y_train, y_test)\n",
        "  cv_accuracy.append(accuracy)\n",
        "  cv_f1.append(f1)"
      ],
      "metadata": {
        "colab": {
          "base_uri": "https://localhost:8080/"
        },
        "id": "wHdivkrMIxj2",
        "outputId": "db2d7a8a-d1e3-4e2d-9397-b483b4f421a2"
      },
      "execution_count": null,
      "outputs": [
        {
          "output_type": "stream",
          "name": "stdout",
          "text": [
            "MultinomialNB(): 0.83552 f-1 score with a standard deviation of 0.00830\n",
            "\n",
            "\n",
            "RandomForestClassifier(): 0.83519 f-1 score with a standard deviation of 0.02030\n",
            "\n",
            "\n",
            "AdaBoostClassifier(): 0.82270 f-1 score with a standard deviation of 0.01462\n",
            "\n",
            "\n",
            "GradientBoostingClassifier(): 0.82462 f-1 score with a standard deviation of 0.01654\n",
            "\n",
            "\n",
            "SVC(): 0.81250 f-1 score with a standard deviation of 0.01368\n",
            "\n",
            "\n",
            "LogisticRegression(): 0.82071 f-1 score with a standard deviation of 0.01110\n",
            "\n",
            "\n",
            "MultinomialNB() Accuracy Score:   0.80769\n",
            "MultinomialNB() F-1 Score:   0.80765\n",
            "\n",
            "\n",
            "RandomForestClassifier() Accuracy Score:   0.81154\n",
            "RandomForestClassifier() F-1 Score:   0.81091\n",
            "\n",
            "\n",
            "AdaBoostClassifier() Accuracy Score:   0.83462\n",
            "AdaBoostClassifier() F-1 Score:   0.83459\n",
            "\n",
            "\n",
            "GradientBoostingClassifier() Accuracy Score:   0.83077\n",
            "GradientBoostingClassifier() F-1 Score:   0.83068\n",
            "\n",
            "\n",
            "SVC() Accuracy Score:   0.82308\n",
            "SVC() F-1 Score:   0.82281\n",
            "\n",
            "\n",
            "LogisticRegression() Accuracy Score:   0.83462\n",
            "LogisticRegression() F-1 Score:   0.83459\n",
            "\n",
            "\n"
          ]
        }
      ]
    },
    {
      "cell_type": "markdown",
      "source": [
        "### TF-IDF Embedding Training"
      ],
      "metadata": {
        "id": "3F4EK41RJTXs"
      }
    },
    {
      "cell_type": "code",
      "source": [
        "# Iterate through the models and find the classifier with the best cross_val_score\n",
        "# and test score\n",
        "\n",
        "tfidf_accuracy = []\n",
        "tfidf_f1 = []\n",
        "\n",
        "for classifier in classifiers:\n",
        "  crossvalidate_classifier(classifier, tfidf_train, y_train)\n",
        "\n",
        "for classifier in classifiers:\n",
        "  accuracy, f1 = evaluate_classifier(classifier, tfidf_train, tfidf_test, y_train, y_test)\n",
        "  tfidf_accuracy.append(accuracy)\n",
        "  tfidf_f1.append(f1)"
      ],
      "metadata": {
        "colab": {
          "base_uri": "https://localhost:8080/"
        },
        "id": "Zjj6MCWeKHab",
        "outputId": "736d6969-f4e2-4af7-a8ff-a55568e9a815"
      },
      "execution_count": null,
      "outputs": [
        {
          "output_type": "stream",
          "name": "stdout",
          "text": [
            "MultinomialNB(): 0.82687 f-1 score with a standard deviation of 0.00609\n",
            "\n",
            "\n",
            "RandomForestClassifier(): 0.84303 f-1 score with a standard deviation of 0.01608\n",
            "\n",
            "\n",
            "AdaBoostClassifier(): 0.80664 f-1 score with a standard deviation of 0.01667\n",
            "\n",
            "\n",
            "GradientBoostingClassifier(): 0.83533 f-1 score with a standard deviation of 0.01380\n",
            "\n",
            "\n",
            "SVC(): 0.83537 f-1 score with a standard deviation of 0.01341\n",
            "\n",
            "\n",
            "LogisticRegression(): 0.83353 f-1 score with a standard deviation of 0.00777\n",
            "\n",
            "\n",
            "MultinomialNB() Accuracy Score:   0.81923\n",
            "MultinomialNB() F-1 Score:   0.81923\n",
            "\n",
            "\n",
            "RandomForestClassifier() Accuracy Score:   0.80769\n",
            "RandomForestClassifier() F-1 Score:   0.80728\n",
            "\n",
            "\n",
            "AdaBoostClassifier() Accuracy Score:   0.80000\n",
            "AdaBoostClassifier() F-1 Score:   0.79989\n",
            "\n",
            "\n",
            "GradientBoostingClassifier() Accuracy Score:   0.79615\n",
            "GradientBoostingClassifier() F-1 Score:   0.79615\n",
            "\n",
            "\n",
            "SVC() Accuracy Score:   0.84231\n",
            "SVC() F-1 Score:   0.84231\n",
            "\n",
            "\n",
            "LogisticRegression() Accuracy Score:   0.85769\n",
            "LogisticRegression() F-1 Score:   0.85764\n",
            "\n",
            "\n"
          ]
        }
      ]
    },
    {
      "cell_type": "code",
      "source": [
        "print(cv_accuracy)\n",
        "print(cv_f1)\n",
        "print(tfidf_accuracy)\n",
        "print(tfidf_f1)"
      ],
      "metadata": {
        "colab": {
          "base_uri": "https://localhost:8080/"
        },
        "id": "FRMQr95fKRKu",
        "outputId": "e2120190-212c-45a7-c6f0-d149e8058ab0"
      },
      "execution_count": null,
      "outputs": [
        {
          "output_type": "stream",
          "name": "stdout",
          "text": [
            "[0.80769, 0.81154, 0.83462, 0.83077, 0.82308, 0.83462]\n",
            "[0.80765, 0.81091, 0.83459, 0.83068, 0.82281, 0.83459]\n",
            "[0.81923, 0.80769, 0.8, 0.79615, 0.84231, 0.85769]\n",
            "[0.81923, 0.80728, 0.79989, 0.79615, 0.84231, 0.85764]\n"
          ]
        }
      ]
    },
    {
      "cell_type": "code",
      "source": [
        "columns = [\"MultinomialNB\", \"RandomForest\", \"AdaBoosting\", \"GradientBoosting\", \"SVC\", \"LogisticRegression\"]\n",
        "indices = ['cv_accuracy', 'tfidf_accuracy', 'cv_f1', 'tfidf_f1']"
      ],
      "metadata": {
        "id": "AmMwS3oCMH4r"
      },
      "execution_count": null,
      "outputs": []
    },
    {
      "cell_type": "code",
      "source": [
        "summary = pd.DataFrame(data=[cv_accuracy, tfidf_accuracy, cv_f1, tfidf_f1], index=indices, columns=columns)"
      ],
      "metadata": {
        "id": "28DU7UhyOs4R"
      },
      "execution_count": null,
      "outputs": []
    },
    {
      "cell_type": "code",
      "source": [
        "summary"
      ],
      "metadata": {
        "colab": {
          "base_uri": "https://localhost:8080/",
          "height": 174
        },
        "id": "D4c9fVgLPt_f",
        "outputId": "259c9688-1576-4cf1-b577-eaae1a6c9a48"
      },
      "execution_count": null,
      "outputs": [
        {
          "output_type": "execute_result",
          "data": {
            "text/html": [
              "\n",
              "  <div id=\"df-badeb3c4-26e7-49a3-a127-43299d4563f2\">\n",
              "    <div class=\"colab-df-container\">\n",
              "      <div>\n",
              "<style scoped>\n",
              "    .dataframe tbody tr th:only-of-type {\n",
              "        vertical-align: middle;\n",
              "    }\n",
              "\n",
              "    .dataframe tbody tr th {\n",
              "        vertical-align: top;\n",
              "    }\n",
              "\n",
              "    .dataframe thead th {\n",
              "        text-align: right;\n",
              "    }\n",
              "</style>\n",
              "<table border=\"1\" class=\"dataframe\">\n",
              "  <thead>\n",
              "    <tr style=\"text-align: right;\">\n",
              "      <th></th>\n",
              "      <th>MultinomialNB</th>\n",
              "      <th>RandomForest</th>\n",
              "      <th>AdaBoosting</th>\n",
              "      <th>GradientBoosting</th>\n",
              "      <th>SVC</th>\n",
              "      <th>LogisticRegression</th>\n",
              "    </tr>\n",
              "  </thead>\n",
              "  <tbody>\n",
              "    <tr>\n",
              "      <th>cv_accuracy</th>\n",
              "      <td>0.80769</td>\n",
              "      <td>0.81154</td>\n",
              "      <td>0.83462</td>\n",
              "      <td>0.83077</td>\n",
              "      <td>0.82308</td>\n",
              "      <td>0.83462</td>\n",
              "    </tr>\n",
              "    <tr>\n",
              "      <th>tfidf_accuracy</th>\n",
              "      <td>0.81923</td>\n",
              "      <td>0.80769</td>\n",
              "      <td>0.80000</td>\n",
              "      <td>0.79615</td>\n",
              "      <td>0.84231</td>\n",
              "      <td>0.85769</td>\n",
              "    </tr>\n",
              "    <tr>\n",
              "      <th>cv_f1</th>\n",
              "      <td>0.80765</td>\n",
              "      <td>0.81091</td>\n",
              "      <td>0.83459</td>\n",
              "      <td>0.83068</td>\n",
              "      <td>0.82281</td>\n",
              "      <td>0.83459</td>\n",
              "    </tr>\n",
              "    <tr>\n",
              "      <th>tfidf_f1</th>\n",
              "      <td>0.81923</td>\n",
              "      <td>0.80728</td>\n",
              "      <td>0.79989</td>\n",
              "      <td>0.79615</td>\n",
              "      <td>0.84231</td>\n",
              "      <td>0.85764</td>\n",
              "    </tr>\n",
              "  </tbody>\n",
              "</table>\n",
              "</div>\n",
              "      <button class=\"colab-df-convert\" onclick=\"convertToInteractive('df-badeb3c4-26e7-49a3-a127-43299d4563f2')\"\n",
              "              title=\"Convert this dataframe to an interactive table.\"\n",
              "              style=\"display:none;\">\n",
              "        \n",
              "  <svg xmlns=\"http://www.w3.org/2000/svg\" height=\"24px\"viewBox=\"0 0 24 24\"\n",
              "       width=\"24px\">\n",
              "    <path d=\"M0 0h24v24H0V0z\" fill=\"none\"/>\n",
              "    <path d=\"M18.56 5.44l.94 2.06.94-2.06 2.06-.94-2.06-.94-.94-2.06-.94 2.06-2.06.94zm-11 1L8.5 8.5l.94-2.06 2.06-.94-2.06-.94L8.5 2.5l-.94 2.06-2.06.94zm10 10l.94 2.06.94-2.06 2.06-.94-2.06-.94-.94-2.06-.94 2.06-2.06.94z\"/><path d=\"M17.41 7.96l-1.37-1.37c-.4-.4-.92-.59-1.43-.59-.52 0-1.04.2-1.43.59L10.3 9.45l-7.72 7.72c-.78.78-.78 2.05 0 2.83L4 21.41c.39.39.9.59 1.41.59.51 0 1.02-.2 1.41-.59l7.78-7.78 2.81-2.81c.8-.78.8-2.07 0-2.86zM5.41 20L4 18.59l7.72-7.72 1.47 1.35L5.41 20z\"/>\n",
              "  </svg>\n",
              "      </button>\n",
              "      \n",
              "  <style>\n",
              "    .colab-df-container {\n",
              "      display:flex;\n",
              "      flex-wrap:wrap;\n",
              "      gap: 12px;\n",
              "    }\n",
              "\n",
              "    .colab-df-convert {\n",
              "      background-color: #E8F0FE;\n",
              "      border: none;\n",
              "      border-radius: 50%;\n",
              "      cursor: pointer;\n",
              "      display: none;\n",
              "      fill: #1967D2;\n",
              "      height: 32px;\n",
              "      padding: 0 0 0 0;\n",
              "      width: 32px;\n",
              "    }\n",
              "\n",
              "    .colab-df-convert:hover {\n",
              "      background-color: #E2EBFA;\n",
              "      box-shadow: 0px 1px 2px rgba(60, 64, 67, 0.3), 0px 1px 3px 1px rgba(60, 64, 67, 0.15);\n",
              "      fill: #174EA6;\n",
              "    }\n",
              "\n",
              "    [theme=dark] .colab-df-convert {\n",
              "      background-color: #3B4455;\n",
              "      fill: #D2E3FC;\n",
              "    }\n",
              "\n",
              "    [theme=dark] .colab-df-convert:hover {\n",
              "      background-color: #434B5C;\n",
              "      box-shadow: 0px 1px 3px 1px rgba(0, 0, 0, 0.15);\n",
              "      filter: drop-shadow(0px 1px 2px rgba(0, 0, 0, 0.3));\n",
              "      fill: #FFFFFF;\n",
              "    }\n",
              "  </style>\n",
              "\n",
              "      <script>\n",
              "        const buttonEl =\n",
              "          document.querySelector('#df-badeb3c4-26e7-49a3-a127-43299d4563f2 button.colab-df-convert');\n",
              "        buttonEl.style.display =\n",
              "          google.colab.kernel.accessAllowed ? 'block' : 'none';\n",
              "\n",
              "        async function convertToInteractive(key) {\n",
              "          const element = document.querySelector('#df-badeb3c4-26e7-49a3-a127-43299d4563f2');\n",
              "          const dataTable =\n",
              "            await google.colab.kernel.invokeFunction('convertToInteractive',\n",
              "                                                     [key], {});\n",
              "          if (!dataTable) return;\n",
              "\n",
              "          const docLinkHtml = 'Like what you see? Visit the ' +\n",
              "            '<a target=\"_blank\" href=https://colab.research.google.com/notebooks/data_table.ipynb>data table notebook</a>'\n",
              "            + ' to learn more about interactive tables.';\n",
              "          element.innerHTML = '';\n",
              "          dataTable['output_type'] = 'display_data';\n",
              "          await google.colab.output.renderOutput(dataTable, element);\n",
              "          const docLink = document.createElement('div');\n",
              "          docLink.innerHTML = docLinkHtml;\n",
              "          element.appendChild(docLink);\n",
              "        }\n",
              "      </script>\n",
              "    </div>\n",
              "  </div>\n",
              "  "
            ],
            "text/plain": [
              "                MultinomialNB  RandomForest  ...      SVC  LogisticRegression\n",
              "cv_accuracy           0.80769       0.81154  ...  0.82308             0.83462\n",
              "tfidf_accuracy        0.81923       0.80769  ...  0.84231             0.85769\n",
              "cv_f1                 0.80765       0.81091  ...  0.82281             0.83459\n",
              "tfidf_f1              0.81923       0.80728  ...  0.84231             0.85764\n",
              "\n",
              "[4 rows x 6 columns]"
            ]
          },
          "metadata": {},
          "execution_count": 19
        }
      ]
    },
    {
      "cell_type": "markdown",
      "source": [
        "# Conclusion\n",
        "\n",
        "It can be observed that the LogisticRegression classifier performs the best across all metrics. However, there is not much of a difference between the scores among models. \n",
        "\n",
        "It is suggested then to increase the amount of data, for instance, include in kids reviews as well in order to increase the variability and distinguishability among a kid-friendly, safe review and an adult-friendly review. "
      ],
      "metadata": {
        "id": "qkUcP92QRP1f"
      }
    }
  ]
}